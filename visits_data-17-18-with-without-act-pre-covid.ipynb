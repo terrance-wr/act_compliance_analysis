{
 "cells": [
  {
   "cell_type": "code",
   "execution_count": 1,
   "metadata": {},
   "outputs": [],
   "source": [
    "import pandas as pd\n",
    "import numpy as np\n",
    "import matplotlib.pyplot as plt\n",
    "from datetime import datetime, timedelta\n",
    "import re\n",
    "import json\n",
    "\n",
    "import seaborn as sns\n",
    "import pgeocode as pg\n",
    "dist = pg.GeoDistance('us')\n",
    "\n",
    "%matplotlib inline\n",
    "\n",
    "from multiprocessing import Pool\n",
    "from functools import partial\n",
    "\n",
    "pd.set_option('display.max_columns', None)\n",
    "\n",
    "def parallelize(data, func, num_of_processes=12):\n",
    "    data_split = np.array_split(data, num_of_processes)\n",
    "    pool = Pool(num_of_processes)\n",
    "    data = pd.concat(pool.map(func, data_split))\n",
    "    pool.close()\n",
    "    pool.join()\n",
    "    return data\n",
    "\n",
    "\n",
    "def run_on_subset(func, data_subset):\n",
    "    return data_subset.apply(func, axis=1)\n",
    "\n",
    "\n",
    "def parallelize_on_rows(data, func, num_of_processes=12):\n",
    "    return parallelize(data, partial(run_on_subset, func), num_of_processes)"
   ]
  },
  {
   "cell_type": "code",
   "execution_count": 2,
   "metadata": {},
   "outputs": [
    {
     "data": {
      "text/plain": [
       "('/shared/rodrigo/preact/customer_metadata_RadnetMA.csv.edit',\n",
       " '/shared/data/visit_history_data/customer_visit_history_RadnetMA.csv',\n",
       " '/shared/data/ACT_history_data/customer_ACT_history.csv')"
      ]
     },
     "execution_count": 2,
     "metadata": {},
     "output_type": "execute_result"
    }
   ],
   "source": [
    "REGION='RadnetMA'\n",
    "# RadnetNE, RadnetFL\n",
    "ACT_START_DATE='2019-07-22'\n",
    "DURATION=7\n",
    "\n",
    "cst_file_path='/shared/rodrigo/preact/customer_metadata_'+REGION+'.csv.edit'\n",
    "\n",
    "visit_file_path='/shared/data/visit_history_data/customer_visit_history_'+REGION+'.csv'\n",
    "act_file_path='/shared/data/ACT_history_data/customer_ACT_history.csv'\n",
    "\n",
    "cst_file_path, visit_file_path, act_file_path"
   ]
  },
  {
   "cell_type": "code",
   "execution_count": 3,
   "metadata": {
    "scrolled": false
   },
   "outputs": [
    {
     "name": "stdout",
     "output_type": "stream",
     "text": [
      "(697785, 37)\n"
     ]
    },
    {
     "data": {
      "text/html": [
       "<div>\n",
       "<style scoped>\n",
       "    .dataframe tbody tr th:only-of-type {\n",
       "        vertical-align: middle;\n",
       "    }\n",
       "\n",
       "    .dataframe tbody tr th {\n",
       "        vertical-align: top;\n",
       "    }\n",
       "\n",
       "    .dataframe thead th {\n",
       "        text-align: right;\n",
       "    }\n",
       "</style>\n",
       "<table border=\"1\" class=\"dataframe\">\n",
       "  <thead>\n",
       "    <tr style=\"text-align: right;\">\n",
       "      <th></th>\n",
       "      <th>id</th>\n",
       "      <th>date_of_birth</th>\n",
       "      <th>address_state</th>\n",
       "      <th>address_zipcode</th>\n",
       "      <th>is_duplicate</th>\n",
       "      <th>is_deceased</th>\n",
       "      <th>is_deactivated</th>\n",
       "      <th>cell_phone</th>\n",
       "      <th>first_name</th>\n",
       "      <th>home_phone</th>\n",
       "      <th>last_name</th>\n",
       "      <th>middle_name</th>\n",
       "      <th>mrn</th>\n",
       "      <th>work_phone</th>\n",
       "      <th>escalation_level</th>\n",
       "      <th>is_lead</th>\n",
       "      <th>preferred_language</th>\n",
       "      <th>db_group_id</th>\n",
       "      <th>death_flag</th>\n",
       "      <th>deleted_flag</th>\n",
       "      <th>race_type_code</th>\n",
       "      <th>ethnic_origin_code</th>\n",
       "      <th>last_medication_sync</th>\n",
       "      <th>primary_address_city</th>\n",
       "      <th>primary_address_state</th>\n",
       "      <th>primary_language_code</th>\n",
       "      <th>no_alternate_phone_flag</th>\n",
       "      <th>primary_address_country</th>\n",
       "      <th>primary_address_zipcode</th>\n",
       "      <th>contact_method_type_code</th>\n",
       "      <th>last_breast_density_code</th>\n",
       "      <th>delivery_method_type_code</th>\n",
       "      <th>no_longer_menstruating_flag</th>\n",
       "      <th>taxbracket_max</th>\n",
       "      <th>taxbracket_pos</th>\n",
       "      <th>zipcodeincome_percapita</th>\n",
       "      <th>adjusted_zip</th>\n",
       "    </tr>\n",
       "  </thead>\n",
       "  <tbody>\n",
       "    <tr>\n",
       "      <th>0</th>\n",
       "      <td>1006841</td>\n",
       "      <td>1959-02-26</td>\n",
       "      <td>DE</td>\n",
       "      <td>19709</td>\n",
       "      <td>False</td>\n",
       "      <td>NaN</td>\n",
       "      <td>False</td>\n",
       "      <td>2.406406e+09</td>\n",
       "      <td>KAREN</td>\n",
       "      <td>2.406406e+09</td>\n",
       "      <td>KOSH</td>\n",
       "      <td>R</td>\n",
       "      <td>2565762AM</td>\n",
       "      <td>NaN</td>\n",
       "      <td>0</td>\n",
       "      <td>False</td>\n",
       "      <td>en-us</td>\n",
       "      <td>5</td>\n",
       "      <td>N</td>\n",
       "      <td>N</td>\n",
       "      <td>Black or African American</td>\n",
       "      <td>Not Hispanic or Latino</td>\n",
       "      <td>NaN</td>\n",
       "      <td>Middletown</td>\n",
       "      <td>DE</td>\n",
       "      <td>EN</td>\n",
       "      <td>N</td>\n",
       "      <td>US</td>\n",
       "      <td>19709</td>\n",
       "      <td>M</td>\n",
       "      <td>S</td>\n",
       "      <td>Mail</td>\n",
       "      <td>N</td>\n",
       "      <td>157500.0</td>\n",
       "      <td>Bracket (mintax 1-&gt;maxtax 7): 4/7</td>\n",
       "      <td>88255.0</td>\n",
       "      <td>NaN</td>\n",
       "    </tr>\n",
       "    <tr>\n",
       "      <th>1</th>\n",
       "      <td>1006852</td>\n",
       "      <td>1953-11-27</td>\n",
       "      <td>DE</td>\n",
       "      <td>19709</td>\n",
       "      <td>True</td>\n",
       "      <td>NaN</td>\n",
       "      <td>False</td>\n",
       "      <td>NaN</td>\n",
       "      <td>MELINDA</td>\n",
       "      <td>3.024496e+09</td>\n",
       "      <td>SARINO</td>\n",
       "      <td>REYES</td>\n",
       "      <td>2529069AM</td>\n",
       "      <td>NaN</td>\n",
       "      <td>0</td>\n",
       "      <td>False</td>\n",
       "      <td>en-us</td>\n",
       "      <td>5</td>\n",
       "      <td>N</td>\n",
       "      <td>N</td>\n",
       "      <td>Declined to Specify</td>\n",
       "      <td>Hispanic or Latino</td>\n",
       "      <td>NaN</td>\n",
       "      <td>MIDDLETOWN</td>\n",
       "      <td>DE</td>\n",
       "      <td>EN</td>\n",
       "      <td>N</td>\n",
       "      <td>NaN</td>\n",
       "      <td>19709</td>\n",
       "      <td>HP</td>\n",
       "      <td>S</td>\n",
       "      <td>NaN</td>\n",
       "      <td>N</td>\n",
       "      <td>157500.0</td>\n",
       "      <td>Bracket (mintax 1-&gt;maxtax 7): 4/7</td>\n",
       "      <td>88255.0</td>\n",
       "      <td>NaN</td>\n",
       "    </tr>\n",
       "    <tr>\n",
       "      <th>2</th>\n",
       "      <td>1006853</td>\n",
       "      <td>1959-08-15</td>\n",
       "      <td>AZ</td>\n",
       "      <td>85087</td>\n",
       "      <td>False</td>\n",
       "      <td>NaN</td>\n",
       "      <td>False</td>\n",
       "      <td>6.107424e+09</td>\n",
       "      <td>MARY</td>\n",
       "      <td>6.107424e+09</td>\n",
       "      <td>BECKER PASHA</td>\n",
       "      <td>F</td>\n",
       "      <td>2534784AM</td>\n",
       "      <td>3.024987e+09</td>\n",
       "      <td>0</td>\n",
       "      <td>False</td>\n",
       "      <td>en-us</td>\n",
       "      <td>5</td>\n",
       "      <td>N</td>\n",
       "      <td>N</td>\n",
       "      <td>No race assigned</td>\n",
       "      <td>No ethnicity assigned</td>\n",
       "      <td>NaN</td>\n",
       "      <td>New River</td>\n",
       "      <td>AZ</td>\n",
       "      <td>NaN</td>\n",
       "      <td>N</td>\n",
       "      <td>US</td>\n",
       "      <td>85087</td>\n",
       "      <td>NaN</td>\n",
       "      <td>NaN</td>\n",
       "      <td>NaN</td>\n",
       "      <td>N</td>\n",
       "      <td>157500.0</td>\n",
       "      <td>Bracket (mintax 1-&gt;maxtax 7): 4/7</td>\n",
       "      <td>84283.0</td>\n",
       "      <td>NaN</td>\n",
       "    </tr>\n",
       "    <tr>\n",
       "      <th>3</th>\n",
       "      <td>1006856</td>\n",
       "      <td>1977-03-24</td>\n",
       "      <td>DE</td>\n",
       "      <td>19702</td>\n",
       "      <td>False</td>\n",
       "      <td>NaN</td>\n",
       "      <td>False</td>\n",
       "      <td>4.103222e+09</td>\n",
       "      <td>ANN</td>\n",
       "      <td>4.103222e+09</td>\n",
       "      <td>FLUTKA</td>\n",
       "      <td>MARIE</td>\n",
       "      <td>2551964AM</td>\n",
       "      <td>NaN</td>\n",
       "      <td>0</td>\n",
       "      <td>False</td>\n",
       "      <td>en-us</td>\n",
       "      <td>5</td>\n",
       "      <td>N</td>\n",
       "      <td>N</td>\n",
       "      <td>White</td>\n",
       "      <td>Not Hispanic or Latino</td>\n",
       "      <td>NaN</td>\n",
       "      <td>Newark</td>\n",
       "      <td>DE</td>\n",
       "      <td>EN</td>\n",
       "      <td>Y</td>\n",
       "      <td>US</td>\n",
       "      <td>19702</td>\n",
       "      <td>CP</td>\n",
       "      <td>H</td>\n",
       "      <td>E</td>\n",
       "      <td>Y</td>\n",
       "      <td>82500.0</td>\n",
       "      <td>Bracket (mintax 1-&gt;maxtax 7): 3/7</td>\n",
       "      <td>66672.0</td>\n",
       "      <td>NaN</td>\n",
       "    </tr>\n",
       "    <tr>\n",
       "      <th>4</th>\n",
       "      <td>1006861</td>\n",
       "      <td>1937-07-22</td>\n",
       "      <td>DE</td>\n",
       "      <td>19803</td>\n",
       "      <td>False</td>\n",
       "      <td>NaN</td>\n",
       "      <td>False</td>\n",
       "      <td>3.029838e+09</td>\n",
       "      <td>MARGARET</td>\n",
       "      <td>3.027644e+09</td>\n",
       "      <td>CONSIGLIO</td>\n",
       "      <td>VOGEL</td>\n",
       "      <td>2586322AM</td>\n",
       "      <td>NaN</td>\n",
       "      <td>0</td>\n",
       "      <td>False</td>\n",
       "      <td>en-us</td>\n",
       "      <td>5</td>\n",
       "      <td>N</td>\n",
       "      <td>N</td>\n",
       "      <td>White</td>\n",
       "      <td>No ethnicity assigned</td>\n",
       "      <td>NaN</td>\n",
       "      <td>WILMINGTON</td>\n",
       "      <td>DE</td>\n",
       "      <td>EN</td>\n",
       "      <td>N</td>\n",
       "      <td>NaN</td>\n",
       "      <td>19803</td>\n",
       "      <td>NaN</td>\n",
       "      <td>F</td>\n",
       "      <td>NaN</td>\n",
       "      <td>N</td>\n",
       "      <td>157500.0</td>\n",
       "      <td>Bracket (mintax 1-&gt;maxtax 7): 4/7</td>\n",
       "      <td>115125.0</td>\n",
       "      <td>NaN</td>\n",
       "    </tr>\n",
       "  </tbody>\n",
       "</table>\n",
       "</div>"
      ],
      "text/plain": [
       "        id date_of_birth address_state address_zipcode  is_duplicate  \\\n",
       "0  1006841    1959-02-26            DE           19709         False   \n",
       "1  1006852    1953-11-27            DE           19709          True   \n",
       "2  1006853    1959-08-15            AZ           85087         False   \n",
       "3  1006856    1977-03-24            DE           19702         False   \n",
       "4  1006861    1937-07-22            DE           19803         False   \n",
       "\n",
       "  is_deceased is_deactivated    cell_phone first_name    home_phone  \\\n",
       "0         NaN          False  2.406406e+09      KAREN  2.406406e+09   \n",
       "1         NaN          False           NaN    MELINDA  3.024496e+09   \n",
       "2         NaN          False  6.107424e+09       MARY  6.107424e+09   \n",
       "3         NaN          False  4.103222e+09        ANN  4.103222e+09   \n",
       "4         NaN          False  3.029838e+09   MARGARET  3.027644e+09   \n",
       "\n",
       "      last_name middle_name        mrn    work_phone  escalation_level  \\\n",
       "0          KOSH           R  2565762AM           NaN                 0   \n",
       "1        SARINO       REYES  2529069AM           NaN                 0   \n",
       "2  BECKER PASHA           F  2534784AM  3.024987e+09                 0   \n",
       "3        FLUTKA       MARIE  2551964AM           NaN                 0   \n",
       "4     CONSIGLIO       VOGEL  2586322AM           NaN                 0   \n",
       "\n",
       "   is_lead preferred_language  db_group_id death_flag deleted_flag  \\\n",
       "0    False              en-us            5          N            N   \n",
       "1    False              en-us            5          N            N   \n",
       "2    False              en-us            5          N            N   \n",
       "3    False              en-us            5          N            N   \n",
       "4    False              en-us            5          N            N   \n",
       "\n",
       "              race_type_code      ethnic_origin_code last_medication_sync  \\\n",
       "0  Black or African American  Not Hispanic or Latino                  NaN   \n",
       "1        Declined to Specify      Hispanic or Latino                  NaN   \n",
       "2           No race assigned   No ethnicity assigned                  NaN   \n",
       "3                      White  Not Hispanic or Latino                  NaN   \n",
       "4                      White   No ethnicity assigned                  NaN   \n",
       "\n",
       "  primary_address_city primary_address_state primary_language_code  \\\n",
       "0           Middletown                    DE                    EN   \n",
       "1           MIDDLETOWN                    DE                    EN   \n",
       "2            New River                    AZ                   NaN   \n",
       "3               Newark                    DE                    EN   \n",
       "4           WILMINGTON                    DE                    EN   \n",
       "\n",
       "  no_alternate_phone_flag primary_address_country primary_address_zipcode  \\\n",
       "0                       N                      US                   19709   \n",
       "1                       N                     NaN                   19709   \n",
       "2                       N                      US                   85087   \n",
       "3                       Y                      US                   19702   \n",
       "4                       N                     NaN                   19803   \n",
       "\n",
       "  contact_method_type_code last_breast_density_code delivery_method_type_code  \\\n",
       "0                        M                        S                      Mail   \n",
       "1                       HP                        S                       NaN   \n",
       "2                      NaN                      NaN                       NaN   \n",
       "3                       CP                        H                         E   \n",
       "4                      NaN                        F                       NaN   \n",
       "\n",
       "  no_longer_menstruating_flag  taxbracket_max  \\\n",
       "0                           N        157500.0   \n",
       "1                           N        157500.0   \n",
       "2                           N        157500.0   \n",
       "3                           Y         82500.0   \n",
       "4                           N        157500.0   \n",
       "\n",
       "                      taxbracket_pos  zipcodeincome_percapita adjusted_zip  \n",
       "0  Bracket (mintax 1->maxtax 7): 4/7                  88255.0          NaN  \n",
       "1  Bracket (mintax 1->maxtax 7): 4/7                  88255.0          NaN  \n",
       "2  Bracket (mintax 1->maxtax 7): 4/7                  84283.0          NaN  \n",
       "3  Bracket (mintax 1->maxtax 7): 3/7                  66672.0          NaN  \n",
       "4  Bracket (mintax 1->maxtax 7): 4/7                 115125.0          NaN  "
      ]
     },
     "execution_count": 3,
     "metadata": {},
     "output_type": "execute_result"
    }
   ],
   "source": [
    "cst = pd.read_csv(cst_file_path, low_memory=False)"
   ]
  },
  {
   "cell_type": "code",
   "execution_count": 5,
   "metadata": {},
   "outputs": [
    {
     "name": "stdout",
     "output_type": "stream",
     "text": [
      "(5249824, 8)\n"
     ]
    },
    {
     "data": {
      "text/html": [
       "<div>\n",
       "<style scoped>\n",
       "    .dataframe tbody tr th:only-of-type {\n",
       "        vertical-align: middle;\n",
       "    }\n",
       "\n",
       "    .dataframe tbody tr th {\n",
       "        vertical-align: top;\n",
       "    }\n",
       "\n",
       "    .dataframe thead th {\n",
       "        text-align: right;\n",
       "    }\n",
       "</style>\n",
       "<table border=\"1\" class=\"dataframe\">\n",
       "  <thead>\n",
       "    <tr style=\"text-align: right;\">\n",
       "      <th></th>\n",
       "      <th>customer_id</th>\n",
       "      <th>created_on</th>\n",
       "      <th>attempt_status_time</th>\n",
       "      <th>stage</th>\n",
       "      <th>communication_mode</th>\n",
       "      <th>attempt_status</th>\n",
       "      <th>customer_response_time</th>\n",
       "      <th>customer_response</th>\n",
       "    </tr>\n",
       "  </thead>\n",
       "  <tbody>\n",
       "    <tr>\n",
       "      <th>0</th>\n",
       "      <td>4907378</td>\n",
       "      <td>2019-10-07 14:42:47.392787+00:00</td>\n",
       "      <td>2019-10-07 14:46:28.307360+00:00</td>\n",
       "      <td>20.0</td>\n",
       "      <td>sms</td>\n",
       "      <td>delivered</td>\n",
       "      <td>NaN</td>\n",
       "      <td>NaN</td>\n",
       "    </tr>\n",
       "    <tr>\n",
       "      <th>1</th>\n",
       "      <td>980305</td>\n",
       "      <td>2019-07-22 13:07:43.750454+00:00</td>\n",
       "      <td>2019-09-19 18:37:17.035842+00:00</td>\n",
       "      <td>30.0</td>\n",
       "      <td>voice_call</td>\n",
       "      <td>voice_mail</td>\n",
       "      <td>2019-09-19 18:37:17.035842+00:00</td>\n",
       "      <td>NaN</td>\n",
       "    </tr>\n",
       "    <tr>\n",
       "      <th>2</th>\n",
       "      <td>7972137</td>\n",
       "      <td>2020-10-21 12:13:07.895415+00:00</td>\n",
       "      <td>2020-10-21 12:14:27.507719+00:00</td>\n",
       "      <td>50.0</td>\n",
       "      <td>sms</td>\n",
       "      <td>delivered</td>\n",
       "      <td>NaN</td>\n",
       "      <td>NaN</td>\n",
       "    </tr>\n",
       "    <tr>\n",
       "      <th>3</th>\n",
       "      <td>1496021</td>\n",
       "      <td>2019-10-09 15:54:49.004968+00:00</td>\n",
       "      <td>2019-10-09 15:57:02.299909+00:00</td>\n",
       "      <td>90.0</td>\n",
       "      <td>sms</td>\n",
       "      <td>delivered</td>\n",
       "      <td>NaN</td>\n",
       "      <td>NaN</td>\n",
       "    </tr>\n",
       "    <tr>\n",
       "      <th>4</th>\n",
       "      <td>1010875</td>\n",
       "      <td>2019-09-04 12:04:59.418744+00:00</td>\n",
       "      <td>2019-09-04 12:05:02.299066+00:00</td>\n",
       "      <td>20.0</td>\n",
       "      <td>sms</td>\n",
       "      <td>undelivered</td>\n",
       "      <td>NaN</td>\n",
       "      <td>NaN</td>\n",
       "    </tr>\n",
       "  </tbody>\n",
       "</table>\n",
       "</div>"
      ],
      "text/plain": [
       "   customer_id                        created_on  \\\n",
       "0      4907378  2019-10-07 14:42:47.392787+00:00   \n",
       "1       980305  2019-07-22 13:07:43.750454+00:00   \n",
       "2      7972137  2020-10-21 12:13:07.895415+00:00   \n",
       "3      1496021  2019-10-09 15:54:49.004968+00:00   \n",
       "4      1010875  2019-09-04 12:04:59.418744+00:00   \n",
       "\n",
       "                attempt_status_time  stage communication_mode attempt_status  \\\n",
       "0  2019-10-07 14:46:28.307360+00:00   20.0                sms      delivered   \n",
       "1  2019-09-19 18:37:17.035842+00:00   30.0         voice_call     voice_mail   \n",
       "2  2020-10-21 12:14:27.507719+00:00   50.0                sms      delivered   \n",
       "3  2019-10-09 15:57:02.299909+00:00   90.0                sms      delivered   \n",
       "4  2019-09-04 12:05:02.299066+00:00   20.0                sms    undelivered   \n",
       "\n",
       "             customer_response_time customer_response  \n",
       "0                               NaN               NaN  \n",
       "1  2019-09-19 18:37:17.035842+00:00               NaN  \n",
       "2                               NaN               NaN  \n",
       "3                               NaN               NaN  \n",
       "4                               NaN               NaN  "
      ]
     },
     "execution_count": 5,
     "metadata": {},
     "output_type": "execute_result"
    }
   ],
   "source": [
    "act = pd.read_csv(act_file_path, low_memory=False)"
   ]
  },
  {
   "cell_type": "code",
   "execution_count": 6,
   "metadata": {},
   "outputs": [
    {
     "name": "stdout",
     "output_type": "stream",
     "text": [
      "(5290257, 13)\n"
     ]
    },
    {
     "data": {
      "text/html": [
       "<div>\n",
       "<style scoped>\n",
       "    .dataframe tbody tr th:only-of-type {\n",
       "        vertical-align: middle;\n",
       "    }\n",
       "\n",
       "    .dataframe tbody tr th {\n",
       "        vertical-align: top;\n",
       "    }\n",
       "\n",
       "    .dataframe thead th {\n",
       "        text-align: right;\n",
       "    }\n",
       "</style>\n",
       "<table border=\"1\" class=\"dataframe\">\n",
       "  <thead>\n",
       "    <tr style=\"text-align: right;\">\n",
       "      <th></th>\n",
       "      <th>customer_id</th>\n",
       "      <th>id</th>\n",
       "      <th>date_of_visit</th>\n",
       "      <th>modality</th>\n",
       "      <th>internal_procedure_code</th>\n",
       "      <th>clinic_group</th>\n",
       "      <th>site_code</th>\n",
       "      <th>clinic_zipcode</th>\n",
       "      <th>visit_ts</th>\n",
       "      <th>birad_score</th>\n",
       "      <th>primary_ins</th>\n",
       "      <th>secondary_ins</th>\n",
       "      <th>requested_by_npi</th>\n",
       "    </tr>\n",
       "  </thead>\n",
       "  <tbody>\n",
       "    <tr>\n",
       "      <th>0</th>\n",
       "      <td>6051340</td>\n",
       "      <td>12611264</td>\n",
       "      <td>2017-11-24</td>\n",
       "      <td>US</td>\n",
       "      <td>US500</td>\n",
       "      <td>RadnetCRA</td>\n",
       "      <td>GRB</td>\n",
       "      <td>20770</td>\n",
       "      <td>2017-11-24 20:00:00+00:00</td>\n",
       "      <td>NaN</td>\n",
       "      <td>SELFPAY NO OTC</td>\n",
       "      <td>NaN</td>\n",
       "      <td>NaN</td>\n",
       "    </tr>\n",
       "    <tr>\n",
       "      <th>1</th>\n",
       "      <td>5507787</td>\n",
       "      <td>9747040</td>\n",
       "      <td>2016-06-16</td>\n",
       "      <td>CR</td>\n",
       "      <td>73502</td>\n",
       "      <td>RadnetCRA</td>\n",
       "      <td>CL</td>\n",
       "      <td>20735</td>\n",
       "      <td>2016-06-16 19:26:00+00:00</td>\n",
       "      <td>NaN</td>\n",
       "      <td>SELFPAY NO OTC</td>\n",
       "      <td>NaN</td>\n",
       "      <td>NaN</td>\n",
       "    </tr>\n",
       "    <tr>\n",
       "      <th>2</th>\n",
       "      <td>6051340</td>\n",
       "      <td>12550270</td>\n",
       "      <td>2017-11-24</td>\n",
       "      <td>MG_scr</td>\n",
       "      <td>G0202T</td>\n",
       "      <td>RadnetCRA</td>\n",
       "      <td>GRB</td>\n",
       "      <td>20770</td>\n",
       "      <td>2017-11-24 14:45:00+00:00</td>\n",
       "      <td>2.0</td>\n",
       "      <td>SELFPAY NO OTC</td>\n",
       "      <td>NaN</td>\n",
       "      <td>1407897325</td>\n",
       "    </tr>\n",
       "    <tr>\n",
       "      <th>3</th>\n",
       "      <td>5507787</td>\n",
       "      <td>9747039</td>\n",
       "      <td>2016-06-16</td>\n",
       "      <td>CR</td>\n",
       "      <td>XR707</td>\n",
       "      <td>RadnetCRA</td>\n",
       "      <td>CL</td>\n",
       "      <td>20735</td>\n",
       "      <td>2016-06-16 19:20:00+00:00</td>\n",
       "      <td>NaN</td>\n",
       "      <td>SELFPAY NO OTC</td>\n",
       "      <td>NaN</td>\n",
       "      <td>NaN</td>\n",
       "    </tr>\n",
       "    <tr>\n",
       "      <th>4</th>\n",
       "      <td>4516754</td>\n",
       "      <td>12553906</td>\n",
       "      <td>2017-11-13</td>\n",
       "      <td>CR</td>\n",
       "      <td>72040</td>\n",
       "      <td>RadnetADV</td>\n",
       "      <td>KO</td>\n",
       "      <td>21043</td>\n",
       "      <td>2017-11-13 20:50:00+00:00</td>\n",
       "      <td>NaN</td>\n",
       "      <td>SELFPAY NO OTC</td>\n",
       "      <td>NaN</td>\n",
       "      <td>NaN</td>\n",
       "    </tr>\n",
       "  </tbody>\n",
       "</table>\n",
       "</div>"
      ],
      "text/plain": [
       "   customer_id        id date_of_visit modality internal_procedure_code  \\\n",
       "0      6051340  12611264    2017-11-24       US                   US500   \n",
       "1      5507787   9747040    2016-06-16       CR                   73502   \n",
       "2      6051340  12550270    2017-11-24   MG_scr                  G0202T   \n",
       "3      5507787   9747039    2016-06-16       CR                   XR707   \n",
       "4      4516754  12553906    2017-11-13       CR                   72040   \n",
       "\n",
       "  clinic_group site_code clinic_zipcode                   visit_ts  \\\n",
       "0    RadnetCRA       GRB          20770  2017-11-24 20:00:00+00:00   \n",
       "1    RadnetCRA        CL          20735  2016-06-16 19:26:00+00:00   \n",
       "2    RadnetCRA       GRB          20770  2017-11-24 14:45:00+00:00   \n",
       "3    RadnetCRA        CL          20735  2016-06-16 19:20:00+00:00   \n",
       "4    RadnetADV        KO          21043  2017-11-13 20:50:00+00:00   \n",
       "\n",
       "   birad_score     primary_ins secondary_ins requested_by_npi  \n",
       "0          NaN  SELFPAY NO OTC           NaN              NaN  \n",
       "1          NaN  SELFPAY NO OTC           NaN              NaN  \n",
       "2          2.0  SELFPAY NO OTC           NaN       1407897325  \n",
       "3          NaN  SELFPAY NO OTC           NaN              NaN  \n",
       "4          NaN  SELFPAY NO OTC           NaN              NaN  "
      ]
     },
     "execution_count": 6,
     "metadata": {},
     "output_type": "execute_result"
    }
   ],
   "source": [
    "visits = pd.read_csv(visit_file_path, low_memory=False)"
   ]
  },
  {
   "cell_type": "code",
   "execution_count": 7,
   "metadata": {},
   "outputs": [],
   "source": [
    "clinic_group_map = visits.groupby('clinic_group')[['clinic_zipcode']].agg(pd.Series.mode).to_dict()\n",
    "clinic_group_map = clinic_group_map['clinic_zipcode']"
   ]
  },
  {
   "cell_type": "code",
   "execution_count": 8,
   "metadata": {},
   "outputs": [],
   "source": [
    "# impute clinic zip code\n",
    "def fix_clinic_zip(row):\n",
    "    z = row['clinic_zipcode']\n",
    "    if re.match('\\d{5}$', z) is None:\n",
    "        row['clinic_zipcode'] = clinic_group_map[row['clinic_group']]\n",
    "    \n",
    "    return row['clinic_zipcode']\n",
    "\n",
    "visits['clinic_zipcode'] = parallelize_on_rows(visits, fix_clinic_zip, num_of_processes=12)"
   ]
  },
  {
   "cell_type": "code",
   "execution_count": 9,
   "metadata": {},
   "outputs": [],
   "source": [
    "cst = cst[~cst.address_zipcode.isnull()]"
   ]
  },
  {
   "cell_type": "code",
   "execution_count": 10,
   "metadata": {},
   "outputs": [],
   "source": [
    "# fix customers zip codes\n",
    "def fix_customer_zip(row):\n",
    "    z = row['address_zipcode']\n",
    "    if re.match('\\d{5}$', z) is None:\n",
    "        row['address_zipcode'] = None\n",
    "    return row['address_zipcode']\n",
    "\n",
    "cst['address_zipcode'] = parallelize_on_rows(cst, fix_customer_zip, num_of_processes=12)\n",
    "cst = cst[~cst.address_zipcode.isnull()]\n",
    "cst_data = cst[['id', 'date_of_birth', 'address_zipcode', 'zipcodeincome_percapita']].set_index('id').to_dict('index')"
   ]
  },
  {
   "cell_type": "code",
   "execution_count": 11,
   "metadata": {},
   "outputs": [],
   "source": [
    "dist_dict = {}\n",
    "with open('inter_zip_dist_full.json') as fh:\n",
    "    dist_dict = json.load(fh)\n",
    "    \n",
    "def calc_dist(row):\n",
    "    z1 = row['address_zipcode'][:5]\n",
    "    z2 = row['clinic_zipcode'][:5]\n",
    "    if f'{z1}-{z2}' in dist_dict or f'{z2}-{z1}' in dist_dict:\n",
    "        dst = dist_dict.get(f'{z1}-{z2}', 0.0) + dist_dict.get(f'{z2}-{z1}', 0.0)\n",
    "    else:\n",
    "        if z1 == z2:\n",
    "            dst = 0\n",
    "        else:\n",
    "            dst = dist.query_postal_code(z1, z2)\n",
    "            if dst > 100:\n",
    "                dst = 100\n",
    "        dist_dict[f'{z1}-{z2}'] = dst\n",
    "    \n",
    "    return dst"
   ]
  },
  {
   "cell_type": "code",
   "execution_count": 12,
   "metadata": {},
   "outputs": [],
   "source": [
    "# valid only act\n",
    "act = act[act.attempt_status.isin(['delivered', 'voice_mail', 'response_received', 'voice_mail_only'])]"
   ]
  },
  {
   "cell_type": "code",
   "execution_count": 14,
   "metadata": {},
   "outputs": [],
   "source": [
    "# save act date only\n",
    "act_date=act[(act.stage<=20)][['customer_id','created_on']]"
   ]
  },
  {
   "cell_type": "code",
   "execution_count": 16,
   "metadata": {},
   "outputs": [],
   "source": [
    "# remove duplicate visits\n",
    "visits=visits.drop_duplicates(subset='id', keep=\"first\")"
   ]
  },
  {
   "cell_type": "code",
   "execution_count": 17,
   "metadata": {},
   "outputs": [],
   "source": [
    "# consider only MG screening visits\n",
    "visits_scr = visits[visits.modality == 'MG_scr']"
   ]
  },
  {
   "cell_type": "code",
   "execution_count": 18,
   "metadata": {},
   "outputs": [
    {
     "data": {
      "text/plain": [
       "Index(['id', 'date_of_birth', 'address_state', 'address_zipcode',\n",
       "       'is_duplicate', 'is_deceased', 'is_deactivated', 'cell_phone',\n",
       "       'first_name', 'home_phone', 'last_name', 'middle_name', 'mrn',\n",
       "       'work_phone', 'escalation_level', 'is_lead', 'preferred_language',\n",
       "       'db_group_id', 'death_flag', 'deleted_flag', 'race_type_code',\n",
       "       'ethnic_origin_code', 'last_medication_sync', 'primary_address_city',\n",
       "       'primary_address_state', 'primary_language_code',\n",
       "       'no_alternate_phone_flag', 'primary_address_country',\n",
       "       'primary_address_zipcode', 'contact_method_type_code',\n",
       "       'last_breast_density_code', 'delivery_method_type_code',\n",
       "       'no_longer_menstruating_flag', 'taxbracket_max', 'taxbracket_pos',\n",
       "       'zipcodeincome_percapita', 'adjusted_zip'],\n",
       "      dtype='object')"
      ]
     },
     "execution_count": 18,
     "metadata": {},
     "output_type": "execute_result"
    }
   ],
   "source": [
    "# for all these customers, also fill in the customer data\n",
    "cst.columns"
   ]
  },
  {
   "cell_type": "code",
   "execution_count": 21,
   "metadata": {},
   "outputs": [],
   "source": [
    "cst = cst.rename(columns={\"id\": \"customer_id\"})"
   ]
  },
  {
   "cell_type": "code",
   "execution_count": 268,
   "metadata": {},
   "outputs": [],
   "source": [
    "# remove scr visits for which customer data is not available\n",
    "visits_scr = visits_scr.loc[visits_scr.customer_id.isin(cst.customer_id)]\n",
    "\n",
    "# add customer data to visit data\n",
    "visits_scr_cst = visits_scr.merge(cst, on='customer_id', how='inner')\n",
    "visits_scr_cst['visit_datetime'] = pd.to_datetime(visits_scr_cst.loc[:, 'date_of_visit'])\n",
    "\n",
    "# with ACT\n",
    "visits_scr_cst_act = visits_scr_cst.loc[visits_scr_cst.customer_id.isin(act_date.customer_id)]\n",
    "\n",
    "# without ACT\n",
    "visits_scr_cst_wo_act = visits_scr_cst.loc[~visits_scr_cst.customer_id.isin(act_date.customer_id)]"
   ]
  },
  {
   "cell_type": "code",
   "execution_count": 269,
   "metadata": {},
   "outputs": [
    {
     "data": {
      "text/plain": [
       "((774371, 50), (1339007, 50), (2113378, 50))"
      ]
     },
     "execution_count": 269,
     "metadata": {},
     "output_type": "execute_result"
    }
   ],
   "source": [
    "visits_scr_cst_act.shape, visits_scr_cst_wo_act.shape, visits_scr_cst.shape"
   ]
  },
  {
   "cell_type": "code",
   "execution_count": 271,
   "metadata": {},
   "outputs": [],
   "source": [
    "# use *55* or 65 for binary def of younger\n",
    "def get_age(row):\n",
    "    visit = row['date_of_visit']\n",
    "    dob = row['date_of_birth']\n",
    "    born = datetime.strptime(dob, '%Y-%m-%d')\n",
    "    vd = datetime.strptime(visit, '%Y-%m-%d')\n",
    "    \n",
    "    return vd.year - born.year - ((vd.month, vd.day) < (born.month, born.day))\n",
    "\n",
    "def get_race(row):\n",
    "    rcode = f\"{row['race_type_code']}\"\n",
    "    eth = f\"{row['ethnic_origin_code']}\"\n",
    "    if eth == \"Hispanic or Latino\":\n",
    "        return 'Hispanic'\n",
    "    if rcode == 'White':\n",
    "        return 'White'\n",
    "    elif 'Black' in rcode:\n",
    "        return 'Black or African American'\n",
    "    elif 'Asian' in rcode:\n",
    "        return 'Asian'\n",
    "    elif 'Declined' in rcode:\n",
    "        return 'Declined'\n",
    "    return 'Other'\n",
    "\n",
    "def apply_transformations(inp):\n",
    "    df = inp[['customer_id', 'visit_datetime', 'zipcodeincome_percapita', 'race_type_code',\n",
    "              'ethnic_origin_code', 'date_of_visit', 'date_of_birth']].copy()\n",
    "    \n",
    "    df.drop_duplicates('customer_id')\n",
    "    \n",
    "    bins = [0, 50000, 85000, 10000000]\n",
    "    labels = ['Low', 'Medium', 'High']\n",
    "    df.loc[:, 'income_group'] = pd.cut(df.zipcodeincome_percapita, bins, labels=labels)\n",
    "\n",
    "    df.loc[:, 'age'] = parallelize_on_rows(df, get_age, num_of_processes=12)\n",
    "    df.loc[:, 'young'] = df['age'] < 50\n",
    "    df.loc[:, 'race'] = parallelize_on_rows(df, get_race, num_of_processes=12)\n",
    "\n",
    "    cohort = df[['customer_id', 'visit_datetime', 'race', 'income_group', 'young']]\n",
    "    cohort = cohort.rename(columns={'visit_datetime': 'first_visit'})\n",
    "    \n",
    "    return cohort"
   ]
  },
  {
   "cell_type": "code",
   "execution_count": 273,
   "metadata": {},
   "outputs": [
    {
     "data": {
      "text/plain": [
       "Timestamp('2021-01-18 00:00:00')"
      ]
     },
     "execution_count": 273,
     "metadata": {},
     "output_type": "execute_result"
    }
   ],
   "source": [
    "# latest visit \n",
    "visits_scr_cst_act['visit_datetime'].max() "
   ]
  },
  {
   "cell_type": "code",
   "execution_count": 274,
   "metadata": {},
   "outputs": [
    {
     "data": {
      "text/plain": [
       "Timestamp('2014-01-02 00:00:00')"
      ]
     },
     "execution_count": 274,
     "metadata": {},
     "output_type": "execute_result"
    }
   ],
   "source": [
    "# earliest visit\n",
    "visits_scr_cst_act['visit_datetime'].min() "
   ]
  },
  {
   "cell_type": "code",
   "execution_count": 275,
   "metadata": {},
   "outputs": [
    {
     "name": "stdout",
     "output_type": "stream",
     "text": [
      "pre act cohort size:  312674\n",
      "post act cohort size:  119400\n"
     ]
    }
   ],
   "source": [
    "# analyzing pre act patients from 2017 - 7/22/2019\n",
    "# analyzing post act patients from 7/22/2018 - present\n",
    "\n",
    "pre_act_start = pd.to_datetime('2017-01-01')\n",
    "pre_act_end = pd.to_datetime('2018-01-01')\n",
    "\n",
    "post_act_start = pd.to_datetime('2018-06-18')\n",
    "post_act_end = pd.to_datetime('2019-06-18')\n",
    "\n",
    "pre_act = visits_scr_cst[(visits_scr_cst['visit_datetime'] > pre_act_start) & \n",
    "                             (visits_scr_cst['visit_datetime'] < pre_act_end)]\n",
    "\n",
    "post_act = visits_scr_cst_act[(visits_scr_cst_act['visit_datetime'] > post_act_start) & \n",
    "                              (visits_scr_cst_act['visit_datetime'] < post_act_end)]\n",
    "\n",
    "print('pre act cohort size: ', pre_act.shape[0])\n",
    "print('post act cohort size: ', post_act.shape[0])\n",
    "\n",
    "pre_act_dem = apply_transformations(pre_act)\n",
    "post_act_dem = apply_transformations(post_act)"
   ]
  },
  {
   "cell_type": "code",
   "execution_count": 276,
   "metadata": {},
   "outputs": [
    {
     "data": {
      "text/html": [
       "<div>\n",
       "<style scoped>\n",
       "    .dataframe tbody tr th:only-of-type {\n",
       "        vertical-align: middle;\n",
       "    }\n",
       "\n",
       "    .dataframe tbody tr th {\n",
       "        vertical-align: top;\n",
       "    }\n",
       "\n",
       "    .dataframe thead th {\n",
       "        text-align: right;\n",
       "    }\n",
       "</style>\n",
       "<table border=\"1\" class=\"dataframe\">\n",
       "  <thead>\n",
       "    <tr style=\"text-align: right;\">\n",
       "      <th></th>\n",
       "      <th>customer_id</th>\n",
       "      <th>first_visit</th>\n",
       "      <th>race</th>\n",
       "      <th>income_group</th>\n",
       "      <th>young</th>\n",
       "    </tr>\n",
       "  </thead>\n",
       "  <tbody>\n",
       "    <tr>\n",
       "      <th>0</th>\n",
       "      <td>6051340</td>\n",
       "      <td>2017-11-24</td>\n",
       "      <td>Black or African American</td>\n",
       "      <td>Medium</td>\n",
       "      <td>False</td>\n",
       "    </tr>\n",
       "    <tr>\n",
       "      <th>7</th>\n",
       "      <td>4862263</td>\n",
       "      <td>2017-09-26</td>\n",
       "      <td>Black or African American</td>\n",
       "      <td>High</td>\n",
       "      <td>False</td>\n",
       "    </tr>\n",
       "    <tr>\n",
       "      <th>9</th>\n",
       "      <td>4996041</td>\n",
       "      <td>2017-01-19</td>\n",
       "      <td>White</td>\n",
       "      <td>High</td>\n",
       "      <td>True</td>\n",
       "    </tr>\n",
       "    <tr>\n",
       "      <th>10</th>\n",
       "      <td>6026362</td>\n",
       "      <td>2017-09-05</td>\n",
       "      <td>Black or African American</td>\n",
       "      <td>Medium</td>\n",
       "      <td>False</td>\n",
       "    </tr>\n",
       "    <tr>\n",
       "      <th>33</th>\n",
       "      <td>5451181</td>\n",
       "      <td>2017-07-01</td>\n",
       "      <td>White</td>\n",
       "      <td>Low</td>\n",
       "      <td>False</td>\n",
       "    </tr>\n",
       "  </tbody>\n",
       "</table>\n",
       "</div>"
      ],
      "text/plain": [
       "    customer_id first_visit                       race income_group  young\n",
       "0       6051340  2017-11-24  Black or African American       Medium  False\n",
       "7       4862263  2017-09-26  Black or African American         High  False\n",
       "9       4996041  2017-01-19                      White         High   True\n",
       "10      6026362  2017-09-05  Black or African American       Medium  False\n",
       "33      5451181  2017-07-01                      White          Low  False"
      ]
     },
     "execution_count": 276,
     "metadata": {},
     "output_type": "execute_result"
    }
   ],
   "source": [
    "pre_act_dem.head()"
   ]
  },
  {
   "cell_type": "code",
   "execution_count": 278,
   "metadata": {
    "scrolled": true
   },
   "outputs": [],
   "source": [
    "# figure out who came back\n",
    "def returned(cohort, total):\n",
    "    df = total.merge(cohort, on='customer_id', how='inner')\n",
    "    \n",
    "    df = df[['customer_id', 'visit_datetime', 'race', 'income_group', 'young', 'first_visit']].copy()\n",
    "\n",
    "    df = df[df['customer_id'].isin(cohort['customer_id'])]\n",
    "\n",
    "    df['returnby'] = df['first_visit'] + pd.DateOffset(months=19)\n",
    "\n",
    "    return_patients = df[(df['visit_datetime'] > df['first_visit']) &\n",
    "                                 (df['visit_datetime'] < df['returnby'])]\n",
    "    return return_patients\n",
    "\n",
    "\n",
    "pre_act_ret = returned(pre_act_dem, visits_scr_cst)\n",
    "post_act_ret = returned(post_act_dem, visits_scr_cst_act)"
   ]
  },
  {
   "cell_type": "code",
   "execution_count": 279,
   "metadata": {},
   "outputs": [
    {
     "name": "stdout",
     "output_type": "stream",
     "text": [
      "200735\n"
     ]
    },
    {
     "data": {
      "text/html": [
       "<div>\n",
       "<style scoped>\n",
       "    .dataframe tbody tr th:only-of-type {\n",
       "        vertical-align: middle;\n",
       "    }\n",
       "\n",
       "    .dataframe tbody tr th {\n",
       "        vertical-align: top;\n",
       "    }\n",
       "\n",
       "    .dataframe thead th {\n",
       "        text-align: right;\n",
       "    }\n",
       "</style>\n",
       "<table border=\"1\" class=\"dataframe\">\n",
       "  <thead>\n",
       "    <tr style=\"text-align: right;\">\n",
       "      <th></th>\n",
       "      <th>customer_id</th>\n",
       "      <th>visit_datetime</th>\n",
       "      <th>race</th>\n",
       "      <th>income_group</th>\n",
       "      <th>young</th>\n",
       "      <th>first_visit</th>\n",
       "      <th>returnby</th>\n",
       "    </tr>\n",
       "  </thead>\n",
       "  <tbody>\n",
       "    <tr>\n",
       "      <th>9</th>\n",
       "      <td>5237560</td>\n",
       "      <td>2019-04-19</td>\n",
       "      <td>White</td>\n",
       "      <td>Medium</td>\n",
       "      <td>False</td>\n",
       "      <td>2017-10-10</td>\n",
       "      <td>2019-05-10</td>\n",
       "    </tr>\n",
       "    <tr>\n",
       "      <th>25</th>\n",
       "      <td>5403977</td>\n",
       "      <td>2018-06-22</td>\n",
       "      <td>Hispanic</td>\n",
       "      <td>High</td>\n",
       "      <td>False</td>\n",
       "      <td>2017-05-05</td>\n",
       "      <td>2018-12-05</td>\n",
       "    </tr>\n",
       "    <tr>\n",
       "      <th>37</th>\n",
       "      <td>5272853</td>\n",
       "      <td>2018-05-22</td>\n",
       "      <td>Asian</td>\n",
       "      <td>Medium</td>\n",
       "      <td>False</td>\n",
       "      <td>2017-04-12</td>\n",
       "      <td>2018-11-12</td>\n",
       "    </tr>\n",
       "    <tr>\n",
       "      <th>44</th>\n",
       "      <td>5415701</td>\n",
       "      <td>2018-06-08</td>\n",
       "      <td>White</td>\n",
       "      <td>Medium</td>\n",
       "      <td>True</td>\n",
       "      <td>2017-06-02</td>\n",
       "      <td>2019-01-02</td>\n",
       "    </tr>\n",
       "    <tr>\n",
       "      <th>48</th>\n",
       "      <td>5516355</td>\n",
       "      <td>2018-04-19</td>\n",
       "      <td>White</td>\n",
       "      <td>Medium</td>\n",
       "      <td>False</td>\n",
       "      <td>2017-01-26</td>\n",
       "      <td>2018-08-26</td>\n",
       "    </tr>\n",
       "  </tbody>\n",
       "</table>\n",
       "</div>"
      ],
      "text/plain": [
       "    customer_id visit_datetime      race income_group  young first_visit  \\\n",
       "9       5237560     2019-04-19     White       Medium  False  2017-10-10   \n",
       "25      5403977     2018-06-22  Hispanic         High  False  2017-05-05   \n",
       "37      5272853     2018-05-22     Asian       Medium  False  2017-04-12   \n",
       "44      5415701     2018-06-08     White       Medium   True  2017-06-02   \n",
       "48      5516355     2018-04-19     White       Medium  False  2017-01-26   \n",
       "\n",
       "     returnby  \n",
       "9  2019-05-10  \n",
       "25 2018-12-05  \n",
       "37 2018-11-12  \n",
       "44 2019-01-02  \n",
       "48 2018-08-26  "
      ]
     },
     "execution_count": 279,
     "metadata": {},
     "output_type": "execute_result"
    }
   ],
   "source": [
    "print(pre_act_ret.shape[0])\n",
    "pre_act_ret.head()"
   ]
  },
  {
   "cell_type": "code",
   "execution_count": 280,
   "metadata": {},
   "outputs": [
    {
     "name": "stdout",
     "output_type": "stream",
     "text": [
      "(312674, 5)\n"
     ]
    },
    {
     "data": {
      "text/html": [
       "<div>\n",
       "<style scoped>\n",
       "    .dataframe tbody tr th:only-of-type {\n",
       "        vertical-align: middle;\n",
       "    }\n",
       "\n",
       "    .dataframe tbody tr th {\n",
       "        vertical-align: top;\n",
       "    }\n",
       "\n",
       "    .dataframe thead th {\n",
       "        text-align: right;\n",
       "    }\n",
       "</style>\n",
       "<table border=\"1\" class=\"dataframe\">\n",
       "  <thead>\n",
       "    <tr style=\"text-align: right;\">\n",
       "      <th></th>\n",
       "      <th>customer_id</th>\n",
       "      <th>first_visit</th>\n",
       "      <th>race</th>\n",
       "      <th>income_group</th>\n",
       "      <th>young</th>\n",
       "    </tr>\n",
       "  </thead>\n",
       "  <tbody>\n",
       "    <tr>\n",
       "      <th>0</th>\n",
       "      <td>6051340</td>\n",
       "      <td>2017-11-24</td>\n",
       "      <td>Black or African American</td>\n",
       "      <td>Medium</td>\n",
       "      <td>False</td>\n",
       "    </tr>\n",
       "    <tr>\n",
       "      <th>7</th>\n",
       "      <td>4862263</td>\n",
       "      <td>2017-09-26</td>\n",
       "      <td>Black or African American</td>\n",
       "      <td>High</td>\n",
       "      <td>False</td>\n",
       "    </tr>\n",
       "    <tr>\n",
       "      <th>9</th>\n",
       "      <td>4996041</td>\n",
       "      <td>2017-01-19</td>\n",
       "      <td>White</td>\n",
       "      <td>High</td>\n",
       "      <td>True</td>\n",
       "    </tr>\n",
       "    <tr>\n",
       "      <th>10</th>\n",
       "      <td>6026362</td>\n",
       "      <td>2017-09-05</td>\n",
       "      <td>Black or African American</td>\n",
       "      <td>Medium</td>\n",
       "      <td>False</td>\n",
       "    </tr>\n",
       "    <tr>\n",
       "      <th>33</th>\n",
       "      <td>5451181</td>\n",
       "      <td>2017-07-01</td>\n",
       "      <td>White</td>\n",
       "      <td>Low</td>\n",
       "      <td>False</td>\n",
       "    </tr>\n",
       "  </tbody>\n",
       "</table>\n",
       "</div>"
      ],
      "text/plain": [
       "    customer_id first_visit                       race income_group  young\n",
       "0       6051340  2017-11-24  Black or African American       Medium  False\n",
       "7       4862263  2017-09-26  Black or African American         High  False\n",
       "9       4996041  2017-01-19                      White         High   True\n",
       "10      6026362  2017-09-05  Black or African American       Medium  False\n",
       "33      5451181  2017-07-01                      White          Low  False"
      ]
     },
     "execution_count": 280,
     "metadata": {},
     "output_type": "execute_result"
    }
   ],
   "source": [
    "print(pre_act_dem.shape)\n",
    "pre_act_dem.head()"
   ]
  },
  {
   "cell_type": "code",
   "execution_count": 285,
   "metadata": {},
   "outputs": [
    {
     "name": "stdout",
     "output_type": "stream",
     "text": [
      "Compliance rate of False: 66.7% (158961 / 238241)\n",
      "158961 complied, 238241 total\n",
      "\n",
      "Compliance rate of True: 56.1% (41774 / 74433)\n",
      "41774 complied, 74433 total\n",
      "\n"
     ]
    }
   ],
   "source": [
    "def get_percentage(ret, total):\n",
    "    ret_val = ret.value_counts()\n",
    "    total_val = total.value_counts()\n",
    "    \n",
    "    keys = ret_val.keys()\n",
    "    for key in keys:\n",
    "        rate = (ret_val[key] / (total_val[key])) * 100\n",
    "        print(f'Compliance rate of {key}: {rate:.1f}% ({ret_val[key]} / {total_val[key]})')\n",
    "        print(f'{ret_val[key]} complied, {total_val[key]} total')\n",
    "        print()\n",
    "        \n",
    "# age\n",
    "get_percentage(pre_act_ret['young'], pre_act_dem['young'])"
   ]
  },
  {
   "cell_type": "code",
   "execution_count": 286,
   "metadata": {},
   "outputs": [
    {
     "name": "stdout",
     "output_type": "stream",
     "text": [
      "Compliance rate of High: 66.8% (92426 / 138290)\n",
      "92426 complied, 138290 total\n",
      "\n",
      "Compliance rate of Medium: 62.5% (88376 / 141454)\n",
      "88376 complied, 141454 total\n",
      "\n",
      "Compliance rate of Low: 60.5% (19919 / 32904)\n",
      "19919 complied, 32904 total\n",
      "\n"
     ]
    }
   ],
   "source": [
    "get_percentage(pre_act_ret['income_group'], pre_act_dem['income_group'])"
   ]
  },
  {
   "cell_type": "code",
   "execution_count": 287,
   "metadata": {
    "scrolled": true
   },
   "outputs": [
    {
     "name": "stdout",
     "output_type": "stream",
     "text": [
      "Compliance rate of White: 66.7% (124504 / 186791)\n",
      "124504 complied, 186791 total\n",
      "\n",
      "Compliance rate of Black or African American: 63.0% (54349 / 86292)\n",
      "54349 complied, 86292 total\n",
      "\n",
      "Compliance rate of Asian: 60.9% (9041 / 14857)\n",
      "9041 complied, 14857 total\n",
      "\n",
      "Compliance rate of Hispanic: 59.3% (6028 / 10167)\n",
      "6028 complied, 10167 total\n",
      "\n",
      "Compliance rate of Other: 41.7% (4502 / 10796)\n",
      "4502 complied, 10796 total\n",
      "\n",
      "Compliance rate of Declined: 61.3% (2311 / 3771)\n",
      "2311 complied, 3771 total\n",
      "\n"
     ]
    }
   ],
   "source": [
    "get_percentage(pre_act_ret['race'], pre_act_dem['race'])"
   ]
  },
  {
   "cell_type": "code",
   "execution_count": 284,
   "metadata": {},
   "outputs": [
    {
     "name": "stdout",
     "output_type": "stream",
     "text": [
      "Compliance rate of False: 67.7% (60302 / 89070)\n",
      "60302 complied, 89070 total\n",
      "\n",
      "Compliance rate of True: 59.3% (17971 / 30330)\n",
      "17971 complied, 30330 total\n",
      "\n"
     ]
    }
   ],
   "source": [
    "get_percentage(post_act_ret['young'], post_act_dem['young'])"
   ]
  },
  {
   "cell_type": "code",
   "execution_count": 121,
   "metadata": {},
   "outputs": [
    {
     "name": "stdout",
     "output_type": "stream",
     "text": [
      "Compliance rate of High: 68.0% (35750 / 52569)\n",
      "35750 complied, 52569 total\n",
      "\n",
      "Compliance rate of Medium: 64.4% (34998 / 54335)\n",
      "34998 complied, 54335 total\n",
      "\n",
      "Compliance rate of Low: 60.2% (7522 / 12487)\n",
      "7522 complied, 12487 total\n",
      "\n"
     ]
    }
   ],
   "source": [
    "get_percentage(post_act_ret['income_group'], post_act_dem['income_group'])"
   ]
  },
  {
   "cell_type": "code",
   "execution_count": 122,
   "metadata": {},
   "outputs": [
    {
     "name": "stdout",
     "output_type": "stream",
     "text": [
      "Compliance rate of White: 68.8% (48746 / 70815)\n",
      "48746 complied, 70815 total\n",
      "\n",
      "Compliance rate of Black or African American: 63.8% (21239 / 33305)\n",
      "21239 complied, 33305 total\n",
      "\n",
      "Compliance rate of Asian: 62.6% (3659 / 5849)\n",
      "3659 complied, 5849 total\n",
      "\n",
      "Compliance rate of Hispanic: 57.5% (2432 / 4228)\n",
      "2432 complied, 4228 total\n",
      "\n",
      "Compliance rate of Other: 33.3% (1221 / 3667)\n",
      "1221 complied, 3667 total\n",
      "\n",
      "Compliance rate of Declined: 63.5% (976 / 1536)\n",
      "976 complied, 1536 total\n",
      "\n"
     ]
    }
   ],
   "source": [
    "get_percentage(post_act_ret['race'], post_act_dem['race'])"
   ]
  },
  {
   "cell_type": "code",
   "execution_count": 123,
   "metadata": {},
   "outputs": [
    {
     "name": "stdout",
     "output_type": "stream",
     "text": [
      "78273 119400\n"
     ]
    }
   ],
   "source": [
    "print(post_act_ret.shape[0], post_act_dem.shape[0])"
   ]
  },
  {
   "cell_type": "code",
   "execution_count": 89,
   "metadata": {
    "scrolled": false
   },
   "outputs": [
    {
     "data": {
      "text/html": [
       "<div>\n",
       "<style scoped>\n",
       "    .dataframe tbody tr th:only-of-type {\n",
       "        vertical-align: middle;\n",
       "    }\n",
       "\n",
       "    .dataframe tbody tr th {\n",
       "        vertical-align: top;\n",
       "    }\n",
       "\n",
       "    .dataframe thead th {\n",
       "        text-align: right;\n",
       "    }\n",
       "</style>\n",
       "<table border=\"1\" class=\"dataframe\">\n",
       "  <thead>\n",
       "    <tr style=\"text-align: right;\">\n",
       "      <th></th>\n",
       "      <th>customer_id</th>\n",
       "      <th>first_visit</th>\n",
       "      <th>race</th>\n",
       "      <th>income_group</th>\n",
       "      <th>young</th>\n",
       "    </tr>\n",
       "  </thead>\n",
       "  <tbody>\n",
       "    <tr>\n",
       "      <th>0</th>\n",
       "      <td>6051340</td>\n",
       "      <td>2017-11-24</td>\n",
       "      <td>Black or African American</td>\n",
       "      <td>Medium</td>\n",
       "      <td>False</td>\n",
       "    </tr>\n",
       "    <tr>\n",
       "      <th>10</th>\n",
       "      <td>6026362</td>\n",
       "      <td>2017-09-05</td>\n",
       "      <td>Black or African American</td>\n",
       "      <td>Medium</td>\n",
       "      <td>False</td>\n",
       "    </tr>\n",
       "    <tr>\n",
       "      <th>65</th>\n",
       "      <td>5637177</td>\n",
       "      <td>2017-09-12</td>\n",
       "      <td>Black or African American</td>\n",
       "      <td>Medium</td>\n",
       "      <td>False</td>\n",
       "    </tr>\n",
       "    <tr>\n",
       "      <th>75</th>\n",
       "      <td>4360485</td>\n",
       "      <td>2017-01-04</td>\n",
       "      <td>Declined</td>\n",
       "      <td>High</td>\n",
       "      <td>False</td>\n",
       "    </tr>\n",
       "    <tr>\n",
       "      <th>78</th>\n",
       "      <td>5255212</td>\n",
       "      <td>2017-09-12</td>\n",
       "      <td>Black or African American</td>\n",
       "      <td>High</td>\n",
       "      <td>False</td>\n",
       "    </tr>\n",
       "  </tbody>\n",
       "</table>\n",
       "</div>"
      ],
      "text/plain": [
       "    customer_id first_visit                       race income_group  young\n",
       "0       6051340  2017-11-24  Black or African American       Medium  False\n",
       "10      6026362  2017-09-05  Black or African American       Medium  False\n",
       "65      5637177  2017-09-12  Black or African American       Medium  False\n",
       "75      4360485  2017-01-04                   Declined         High  False\n",
       "78      5255212  2017-09-12  Black or African American         High  False"
      ]
     },
     "execution_count": 89,
     "metadata": {},
     "output_type": "execute_result"
    }
   ],
   "source": [
    "# analyzing cohort of patients from 2017-2018\n",
    "\n",
    "cohort_start = pd.to_datetime('2017-01-01')\n",
    "cohort_end = pd.to_datetime('2018-01-01')\n",
    "\n",
    "start_return = pd.to_datetime('2018-01-01')\n",
    "end_return = pd.to_datetime('2019-07-22')\n",
    "\n",
    "act_start = pd.to_datetime('2019-07-22')\n",
    "\n",
    "cohort_patients = visits_scr_cst_act[(visits_scr_cst_act['visit_datetime'] > cohort_start) &\n",
    "                  (visits_scr_cst_act['visit_datetime'] < cohort_end)].copy()\n",
    "\n",
    "cohort_patients_dem = apply_transformations(cohort_patients)\n",
    "\n",
    "cohort_patients_dem.head()"
   ]
  },
  {
   "cell_type": "code",
   "execution_count": 92,
   "metadata": {},
   "outputs": [
    {
     "name": "stdout",
     "output_type": "stream",
     "text": [
      "number of cohort who return within 19 months of visit\n",
      "71608\n",
      "percentage of cohort that returned\n",
      "0.6109011491507205\n",
      "number of cohort who return after start of ACT\n",
      "81069\n",
      "percentage of cohort that returned post act\n",
      "0.6916146975268093\n"
     ]
    }
   ],
   "source": [
    "df = visits_scr_cst_act.merge(cohort_patients_dem, on='customer_id', how='inner')\n",
    "df = df[df['customer_id'].isin(cohort['customer_id'])]\n",
    "df['returnby'] = df['first_visit'] + pd.DateOffset(months=19)\n",
    "\n",
    "pre_act = df[(df['visit_datetime'] > df['first_visit']) &\n",
    "                                 (df['visit_datetime'] < df['returnby'])]\n",
    "pre_act = pre_act.drop_duplicates('customer_id')\n",
    "\n",
    "print('number of cohort who return within 19 months of visit')\n",
    "print(pre_act.shape[0])\n",
    "print('percentage of cohort that returned')\n",
    "print(pre_act.shape[0] / cohort_patients_dem.shape[0])\n",
    "\n",
    "post_act = df[df['visit_datetime'] > act_start]\n",
    "post_act = post_act.drop_duplicates('customer_id')\n",
    "\n",
    "print('number of cohort who return after start of ACT')\n",
    "print(post_act.shape[0])\n",
    "print('percentage of cohort that returned post act')\n",
    "print(post_act.shape[0] / cohort_patients_dem.shape[0])"
   ]
  },
  {
   "cell_type": "code",
   "execution_count": 94,
   "metadata": {},
   "outputs": [],
   "source": [
    "pre_act_dem = pre_act[['customer_id', 'preferred_language',\n",
    "                                       'income_group', 'young', 'race']].copy()\n",
    "\n",
    "post_act_dem = post_act[['customer_id', 'preferred_language',\n",
    "                                       'income_group', 'young', 'race']].copy()"
   ]
  },
  {
   "cell_type": "code",
   "execution_count": 96,
   "metadata": {},
   "outputs": [
    {
     "name": "stdout",
     "output_type": "stream",
     "text": [
      "race of patients that complied\n",
      "White                        44415\n",
      "Black or African American    19274\n",
      "Asian                         3238\n",
      "Hispanic                      2111\n",
      "Other                         1752\n",
      "Declined                       818\n",
      "Name: race, dtype: int64\n"
     ]
    }
   ],
   "source": [
    "print('race of patients that complied')\n",
    "print(pre_act_dem['race'].value_counts())"
   ]
  },
  {
   "cell_type": "code",
   "execution_count": 97,
   "metadata": {},
   "outputs": [
    {
     "name": "stdout",
     "output_type": "stream",
     "text": [
      "Compliance rate of White: 63.6% (44415 / 69874)\n",
      "44415 complied, 69874 total\n",
      "\n",
      "Compliance rate of Black or African American: 59.9% (19274 / 32161)\n",
      "19274 complied, 32161 total\n",
      "\n",
      "Compliance rate of Asian: 57.8% (3238 / 5598)\n",
      "3238 complied, 5598 total\n",
      "\n",
      "Compliance rate of Hispanic: 56.1% (2111 / 3763)\n",
      "2111 complied, 3763 total\n",
      "\n",
      "Compliance rate of Other: 39.8% (1752 / 4399)\n",
      "1752 complied, 4399 total\n",
      "\n",
      "Compliance rate of Declined: 57.5% (818 / 1422)\n",
      "818 complied, 1422 total\n",
      "\n"
     ]
    }
   ],
   "source": [
    "print('pre act compliance')\n",
    "get_percentage(pre_act['race'], cohort_patients_dem['race'])"
   ]
  },
  {
   "cell_type": "code",
   "execution_count": 98,
   "metadata": {},
   "outputs": [
    {
     "name": "stdout",
     "output_type": "stream",
     "text": [
      "post act compliance\n",
      "Compliance rate of White: 72.5% (50653 / 69874)\n",
      "50653 complied, 69874 total\n",
      "\n",
      "Compliance rate of Black or African American: 68.3% (21952 / 32161)\n",
      "21952 complied, 32161 total\n",
      "\n",
      "Compliance rate of Asian: 67.2% (3764 / 5598)\n",
      "3764 complied, 5598 total\n",
      "\n",
      "Compliance rate of Hispanic: 64.5% (2429 / 3763)\n",
      "2429 complied, 3763 total\n",
      "\n",
      "Compliance rate of Other: 29.1% (1280 / 4399)\n",
      "1280 complied, 4399 total\n",
      "\n",
      "Compliance rate of Declined: 69.7% (991 / 1422)\n",
      "991 complied, 1422 total\n",
      "\n"
     ]
    }
   ],
   "source": [
    "print('post act compliance')\n",
    "get_percentage(post_act['race'], cohort_patients_dem['race'])"
   ]
  },
  {
   "cell_type": "code",
   "execution_count": 99,
   "metadata": {},
   "outputs": [
    {
     "name": "stdout",
     "output_type": "stream",
     "text": [
      "pre act compliance\n",
      "Compliance rate of High: 63.8% (32952 / 51649)\n",
      "32952 complied, 51649 total\n",
      "\n",
      "Compliance rate of Medium: 59.4% (31737 / 53465)\n",
      "31737 complied, 53465 total\n",
      "\n",
      "Compliance rate of Low: 57.2% (6915 / 12093)\n",
      "6915 complied, 12093 total\n",
      "\n"
     ]
    }
   ],
   "source": [
    "print('pre act compliance')\n",
    "get_percentage(pre_act['income_group'], cohort_patients_dem['income_group'])"
   ]
  },
  {
   "cell_type": "code",
   "execution_count": 101,
   "metadata": {},
   "outputs": [
    {
     "name": "stdout",
     "output_type": "stream",
     "text": [
      "post act compliance\n",
      "Compliance rate of High: 71.4% (36888 / 51649)\n",
      "36888 complied, 51649 total\n",
      "\n",
      "Compliance rate of Medium: 67.8% (36259 / 53465)\n",
      "36259 complied, 53465 total\n",
      "\n",
      "Compliance rate of Low: 65.5% (7918 / 12093)\n",
      "7918 complied, 12093 total\n",
      "\n"
     ]
    }
   ],
   "source": [
    "print('post act compliance')\n",
    "get_percentage(post_act['income_group'], cohort_patients_dem['income_group'])"
   ]
  },
  {
   "cell_type": "code",
   "execution_count": 104,
   "metadata": {},
   "outputs": [
    {
     "name": "stdout",
     "output_type": "stream",
     "text": [
      "pre act compliance\n",
      "Compliance rate of False: 63.9% (54424 / 85228)\n",
      "54424 complied, 85228 total\n",
      "\n",
      "Compliance rate of True: 53.7% (17184 / 31989)\n",
      "17184 complied, 31989 total\n",
      "\n"
     ]
    }
   ],
   "source": [
    "print('pre act compliance')\n",
    "get_percentage(pre_act['young'], cohort_patients_dem['young'])"
   ]
  },
  {
   "cell_type": "code",
   "execution_count": 105,
   "metadata": {},
   "outputs": [
    {
     "name": "stdout",
     "output_type": "stream",
     "text": [
      "post act compliance\n",
      "Compliance rate of False: 71.2% (60686 / 85228)\n",
      "60686 complied, 85228 total\n",
      "\n",
      "Compliance rate of True: 63.7% (20383 / 31989)\n",
      "20383 complied, 31989 total\n",
      "\n"
     ]
    }
   ],
   "source": [
    "print('post act compliance')\n",
    "get_percentage(post_act['young'], cohort_patients_dem['young'])"
   ]
  },
  {
   "cell_type": "code",
   "execution_count": 288,
   "metadata": {},
   "outputs": [
    {
     "data": {
      "image/png": "[encoded data removed]",
      "text/plain": [
       "<Figure size 1008x576 with 1 Axes>"
      ]
     },
     "metadata": {
      "needs_background": "light"
     },
     "output_type": "display_data"
    }
   ],
   "source": [
    "# graphs\n",
    "# patient cohort from 2017 - 2018\n",
    "\n",
    "# age\n",
    "X = ['young', 'old']\n",
    "pre_act = [53.7, 63.9]\n",
    "post_act = [63.7, 71.2]\n",
    "\n",
    "X_axis = np.arange(len(X))\n",
    "\n",
    "plt.figure(figsize=(14, 8))\n",
    "\n",
    "plt.bar(X_axis - 0.2, pre_act, 0.4, label='pre act')\n",
    "plt.bar(X_axis + 0.2, post_act, 0.4, label='post act')\n",
    "plt.xticks(X_axis, X)\n",
    "plt.ylabel('percentage')\n",
    "plt.legend()\n",
    "plt.title('percentage of compliance in patients before and after act by age')\n",
    "plt.show()"
   ]
  },
  {
   "cell_type": "code",
   "execution_count": 289,
   "metadata": {},
   "outputs": [
    {
     "data": {
      "image/png": "[encoded data removed]",
      "text/plain": [
       "<Figure size 1008x576 with 1 Axes>"
      ]
     },
     "metadata": {
      "needs_background": "light"
     },
     "output_type": "display_data"
    }
   ],
   "source": [
    "# graphs\n",
    "# patient cohort from 2017 - 2018\n",
    "\n",
    "# income group\n",
    "X = ['high income', 'medium income', 'low income']\n",
    "pre_act = [63.8, 59.4, 57.2]\n",
    "post_act = [71.4, 67.8, 65.5]\n",
    "\n",
    "X_axis = np.arange(len(X))\n",
    "\n",
    "plt.figure(figsize=(14, 8))\n",
    "\n",
    "plt.bar(X_axis - 0.2, pre_act, 0.4, label='pre act')\n",
    "plt.bar(X_axis + 0.2, post_act, 0.4, label='post act')\n",
    "plt.xticks(X_axis, X)\n",
    "plt.ylabel('percentage')\n",
    "plt.legend()\n",
    "plt.title('percentage of compliance in patients before and after act by income group')\n",
    "plt.show()"
   ]
  },
  {
   "cell_type": "code",
   "execution_count": 138,
   "metadata": {},
   "outputs": [
    {
     "data": {
      "image/png": "[encoded data removed]",
      "text/plain": [
       "<Figure size 1008x576 with 1 Axes>"
      ]
     },
     "metadata": {
      "needs_background": "light"
     },
     "output_type": "display_data"
    }
   ],
   "source": [
    "# graphs\n",
    "# patient cohort from 2017 - 2018\n",
    "\n",
    "# race\n",
    "X = ['White', 'Black or African American', 'Asian', 'Hispanic', 'Other', 'Declined']\n",
    "pre_act = [63.6, 60.0, 57.9, 56.1, 40.0, 57.6]\n",
    "post_act = [72.5, 68.3, 67.3, 64.6, 29.1, 69.7]\n",
    "\n",
    "X_axis = np.arange(len(X))\n",
    "\n",
    "plt.figure(figsize=(14, 8))\n",
    "\n",
    "plt.bar(X_axis - 0.2, pre_act, 0.4, label='pre act')\n",
    "plt.bar(X_axis + 0.2, post_act, 0.4, label='post act')\n",
    "plt.xticks(X_axis, X)\n",
    "plt.ylabel('percentage')\n",
    "plt.legend()\n",
    "plt.title('percentage of compliance in patients before and after act by race')\n",
    "plt.show()"
   ]
  },
  {
   "cell_type": "code",
   "execution_count": 196,
   "metadata": {},
   "outputs": [],
   "source": [
    "# repeat compliance \n",
    "# pre act, compliance = patients with at least 3 visits\n",
    "# and 1 visit is within a year from 7/22/2019\n",
    "\n",
    "def apply_transformations(inp):\n",
    "    df = inp[['customer_id', 'visit_datetime', 'zipcodeincome_percapita', 'race_type_code',\n",
    "              'ethnic_origin_code', 'date_of_visit', 'date_of_birth']].copy()\n",
    "    \n",
    "    counts = df.groupby('customer_id')['customer_id'].agg('count').to_frame('num_visits')\n",
    "    df = df.merge(counts, on='customer_id', how='inner')\n",
    "    \n",
    "    bins = [0, 50000, 85000, 10000000]\n",
    "    labels = ['Low', 'Medium', 'High']\n",
    "    df.loc[:, 'income_group'] = pd.cut(df.zipcodeincome_percapita, bins, labels=labels)\n",
    "\n",
    "    df.loc[:, 'age'] = parallelize_on_rows(df, get_age, num_of_processes=12)\n",
    "    df.loc[:, 'young'] = df['age'] < 50\n",
    "    df.loc[:, 'race'] = parallelize_on_rows(df, get_race, num_of_processes=12)\n",
    "\n",
    "    cohort = df[['customer_id', 'visit_datetime', 'race', 'income_group', 'young', 'num_visits']]\n",
    "    print(cohort.shape)\n",
    "    return cohort"
   ]
  },
  {
   "cell_type": "code",
   "execution_count": 202,
   "metadata": {},
   "outputs": [
    {
     "data": {
      "text/plain": [
       "(580296, 50)"
      ]
     },
     "execution_count": 202,
     "metadata": {},
     "output_type": "execute_result"
    }
   ],
   "source": [
    "act = pd.to_datetime('2019-07-22')\n",
    "visits_pre_act = visits_scr_cst_act[visits_scr_cst_act['visit_datetime'] < act]"
   ]
  },
  {
   "cell_type": "code",
   "execution_count": 217,
   "metadata": {},
   "outputs": [
    {
     "name": "stdout",
     "output_type": "stream",
     "text": [
      "(580296, 6)\n",
      "(231670, 6)\n"
     ]
    },
    {
     "data": {
      "text/html": [
       "<div>\n",
       "<style scoped>\n",
       "    .dataframe tbody tr th:only-of-type {\n",
       "        vertical-align: middle;\n",
       "    }\n",
       "\n",
       "    .dataframe tbody tr th {\n",
       "        vertical-align: top;\n",
       "    }\n",
       "\n",
       "    .dataframe thead th {\n",
       "        text-align: right;\n",
       "    }\n",
       "</style>\n",
       "<table border=\"1\" class=\"dataframe\">\n",
       "  <thead>\n",
       "    <tr style=\"text-align: right;\">\n",
       "      <th></th>\n",
       "      <th>customer_id</th>\n",
       "      <th>visit_datetime</th>\n",
       "      <th>race</th>\n",
       "      <th>income_group</th>\n",
       "      <th>young</th>\n",
       "      <th>num_visits</th>\n",
       "    </tr>\n",
       "  </thead>\n",
       "  <tbody>\n",
       "    <tr>\n",
       "      <th>0</th>\n",
       "      <td>6051340</td>\n",
       "      <td>2017-11-24</td>\n",
       "      <td>Black or African American</td>\n",
       "      <td>Medium</td>\n",
       "      <td>False</td>\n",
       "      <td>1</td>\n",
       "    </tr>\n",
       "    <tr>\n",
       "      <th>1</th>\n",
       "      <td>6026362</td>\n",
       "      <td>2017-09-05</td>\n",
       "      <td>Black or African American</td>\n",
       "      <td>Medium</td>\n",
       "      <td>False</td>\n",
       "      <td>1</td>\n",
       "    </tr>\n",
       "    <tr>\n",
       "      <th>2</th>\n",
       "      <td>5368143</td>\n",
       "      <td>2016-11-03</td>\n",
       "      <td>Asian</td>\n",
       "      <td>Medium</td>\n",
       "      <td>True</td>\n",
       "      <td>1</td>\n",
       "    </tr>\n",
       "    <tr>\n",
       "      <th>3</th>\n",
       "      <td>4828756</td>\n",
       "      <td>2014-11-18</td>\n",
       "      <td>Black or African American</td>\n",
       "      <td>High</td>\n",
       "      <td>False</td>\n",
       "      <td>2</td>\n",
       "    </tr>\n",
       "    <tr>\n",
       "      <th>4</th>\n",
       "      <td>4828756</td>\n",
       "      <td>2016-01-13</td>\n",
       "      <td>Black or African American</td>\n",
       "      <td>High</td>\n",
       "      <td>False</td>\n",
       "      <td>2</td>\n",
       "    </tr>\n",
       "  </tbody>\n",
       "</table>\n",
       "</div>"
      ],
      "text/plain": [
       "   customer_id visit_datetime                       race income_group  young  \\\n",
       "0      6051340     2017-11-24  Black or African American       Medium  False   \n",
       "1      6026362     2017-09-05  Black or African American       Medium  False   \n",
       "2      5368143     2016-11-03                      Asian       Medium   True   \n",
       "3      4828756     2014-11-18  Black or African American         High  False   \n",
       "4      4828756     2016-01-13  Black or African American         High  False   \n",
       "\n",
       "   num_visits  \n",
       "0           1  \n",
       "1           1  \n",
       "2           1  \n",
       "3           2  \n",
       "4           2  "
      ]
     },
     "execution_count": 217,
     "metadata": {},
     "output_type": "execute_result"
    }
   ],
   "source": [
    "df = apply_transformations(visits_pre_act)\n",
    "total_patients = df.drop_duplicates('customer_id')\n",
    "print(total_patients.shape)\n",
    "df.head()"
   ]
  },
  {
   "cell_type": "code",
   "execution_count": 218,
   "metadata": {},
   "outputs": [
    {
     "name": "stdout",
     "output_type": "stream",
     "text": [
      "(75182, 6)\n"
     ]
    },
    {
     "data": {
      "text/html": [
       "<div>\n",
       "<style scoped>\n",
       "    .dataframe tbody tr th:only-of-type {\n",
       "        vertical-align: middle;\n",
       "    }\n",
       "\n",
       "    .dataframe tbody tr th {\n",
       "        vertical-align: top;\n",
       "    }\n",
       "\n",
       "    .dataframe thead th {\n",
       "        text-align: right;\n",
       "    }\n",
       "</style>\n",
       "<table border=\"1\" class=\"dataframe\">\n",
       "  <thead>\n",
       "    <tr style=\"text-align: right;\">\n",
       "      <th></th>\n",
       "      <th>customer_id</th>\n",
       "      <th>visit_datetime</th>\n",
       "      <th>race</th>\n",
       "      <th>income_group</th>\n",
       "      <th>young</th>\n",
       "      <th>num_visits</th>\n",
       "    </tr>\n",
       "  </thead>\n",
       "  <tbody>\n",
       "    <tr>\n",
       "      <th>40</th>\n",
       "      <td>5423707</td>\n",
       "      <td>2018-10-02</td>\n",
       "      <td>White</td>\n",
       "      <td>High</td>\n",
       "      <td>True</td>\n",
       "      <td>4</td>\n",
       "    </tr>\n",
       "    <tr>\n",
       "      <th>51</th>\n",
       "      <td>5313939</td>\n",
       "      <td>2018-12-05</td>\n",
       "      <td>Other</td>\n",
       "      <td>High</td>\n",
       "      <td>False</td>\n",
       "      <td>3</td>\n",
       "    </tr>\n",
       "    <tr>\n",
       "      <th>70</th>\n",
       "      <td>5500784</td>\n",
       "      <td>2018-10-23</td>\n",
       "      <td>Black or African American</td>\n",
       "      <td>High</td>\n",
       "      <td>False</td>\n",
       "      <td>4</td>\n",
       "    </tr>\n",
       "    <tr>\n",
       "      <th>73</th>\n",
       "      <td>4320302</td>\n",
       "      <td>2018-08-01</td>\n",
       "      <td>White</td>\n",
       "      <td>Medium</td>\n",
       "      <td>False</td>\n",
       "      <td>5</td>\n",
       "    </tr>\n",
       "    <tr>\n",
       "      <th>83</th>\n",
       "      <td>1273255</td>\n",
       "      <td>2018-12-21</td>\n",
       "      <td>Black or African American</td>\n",
       "      <td>High</td>\n",
       "      <td>False</td>\n",
       "      <td>4</td>\n",
       "    </tr>\n",
       "  </tbody>\n",
       "</table>\n",
       "</div>"
      ],
      "text/plain": [
       "    customer_id visit_datetime                       race income_group  young  \\\n",
       "40      5423707     2018-10-02                      White         High   True   \n",
       "51      5313939     2018-12-05                      Other         High  False   \n",
       "70      5500784     2018-10-23  Black or African American         High  False   \n",
       "73      4320302     2018-08-01                      White       Medium  False   \n",
       "83      1273255     2018-12-21  Black or African American         High  False   \n",
       "\n",
       "    num_visits  \n",
       "40           4  \n",
       "51           3  \n",
       "70           4  \n",
       "73           5  \n",
       "83           4  "
      ]
     },
     "execution_count": 218,
     "metadata": {},
     "output_type": "execute_result"
    }
   ],
   "source": [
    "# have number of visits for every customer_id\n",
    "df = df[df['num_visits'] >= 3]\n",
    "df.shape\n",
    "\n",
    "# all patients that satisfy compliance \n",
    "yr_before_act = pd.to_datetime('2018-07-22')\n",
    "df = df[(df['visit_datetime'] > yr_before_act) & (df['visit_datetime'] < act)]\n",
    "df = df.drop_duplicates('customer_id')\n",
    "print(df.shape)\n",
    "df.head()"
   ]
  },
  {
   "cell_type": "code",
   "execution_count": 219,
   "metadata": {},
   "outputs": [
    {
     "name": "stdout",
     "output_type": "stream",
     "text": [
      "pre act compliance\n",
      "Compliance rate of White: 35.8% (47144 / 131524)\n",
      "47144 complied, 131524 total\n",
      "\n",
      "Compliance rate of Black or African American: 30.3% (19886 / 65545)\n",
      "19886 complied, 65545 total\n",
      "\n",
      "Compliance rate of Asian: 28.4% (3310 / 11642)\n",
      "3310 complied, 11642 total\n",
      "\n",
      "Compliance rate of Hispanic: 25.2% (2111 / 8392)\n",
      "2111 complied, 8392 total\n",
      "\n",
      "Compliance rate of Other: 16.2% (1868 / 11538)\n",
      "1868 complied, 11538 total\n",
      "\n",
      "Compliance rate of Declined: 28.5% (863 / 3029)\n",
      "863 complied, 3029 total\n",
      "\n"
     ]
    }
   ],
   "source": [
    "print('pre act compliance')\n",
    "get_percentage(df['race'], total_patients['race'])"
   ]
  },
  {
   "cell_type": "code",
   "execution_count": 221,
   "metadata": {},
   "outputs": [
    {
     "name": "stdout",
     "output_type": "stream",
     "text": [
      "Compliance rate of High: 35.5% (34635 / 97519)\n",
      "34635 complied, 97519 total\n",
      "\n",
      "Compliance rate of Medium: 30.7% (33302 / 108317)\n",
      "33302 complied, 108317 total\n",
      "\n",
      "Compliance rate of Low: 28.1% (7241 / 25807)\n",
      "7241 complied, 25807 total\n",
      "\n"
     ]
    }
   ],
   "source": [
    "get_percentage(df['income_group'], total_patients['income_group'])"
   ]
  },
  {
   "cell_type": "code",
   "execution_count": 220,
   "metadata": {},
   "outputs": [
    {
     "name": "stdout",
     "output_type": "stream",
     "text": [
      "Compliance rate of False: 39.0% (61636 / 158138)\n",
      "61636 complied, 158138 total\n",
      "\n",
      "Compliance rate of True: 18.4% (13546 / 73532)\n",
      "13546 complied, 73532 total\n",
      "\n"
     ]
    }
   ],
   "source": [
    "get_percentage(df['young'], total_patients['young'])"
   ]
  },
  {
   "cell_type": "code",
   "execution_count": null,
   "metadata": {},
   "outputs": [],
   "source": [
    "def apply_transformations(inp):\n",
    "    df = inp[['customer_id', 'visit_datetime', 'zipcodeincome_percapita', 'race_type_code',\n",
    "              'ethnic_origin_code', 'date_of_visit', 'date_of_birth']].copy()\n",
    "    \n",
    "    counts = df.groupby('customer_id')['customer_id'].agg('count').to_frame('num_visits')\n",
    "    df = df.merge(counts, on='customer_id', how='inner')\n",
    "    \n",
    "    bins = [0, 50000, 85000, 10000000]\n",
    "    labels = ['Low', 'Medium', 'High']\n",
    "    df.loc[:, 'income_group'] = pd.cut(df.zipcodeincome_percapita, bins, labels=labels)\n",
    "\n",
    "    df.loc[:, 'age'] = parallelize_on_rows(df, get_age, num_of_processes=12)\n",
    "    df.loc[:, 'young'] = df['age'] < 50\n",
    "    df.loc[:, 'race'] = parallelize_on_rows(df, get_race, num_of_processes=12)\n",
    "\n",
    "    cohort = df[['customer_id', 'visit_datetime', 'race', 'income_group', 'young', 'num_visits']]\n",
    "    print(cohort.shape)\n",
    "    return cohort"
   ]
  },
  {
   "cell_type": "code",
   "execution_count": 251,
   "metadata": {},
   "outputs": [
    {
     "name": "stdout",
     "output_type": "stream",
     "text": [
      "(733969, 6)\n",
      "(144019, 6)\n"
     ]
    },
    {
     "data": {
      "text/html": [
       "<div>\n",
       "<style scoped>\n",
       "    .dataframe tbody tr th:only-of-type {\n",
       "        vertical-align: middle;\n",
       "    }\n",
       "\n",
       "    .dataframe tbody tr th {\n",
       "        vertical-align: top;\n",
       "    }\n",
       "\n",
       "    .dataframe thead th {\n",
       "        text-align: right;\n",
       "    }\n",
       "</style>\n",
       "<table border=\"1\" class=\"dataframe\">\n",
       "  <thead>\n",
       "    <tr style=\"text-align: right;\">\n",
       "      <th></th>\n",
       "      <th>customer_id</th>\n",
       "      <th>visit_datetime</th>\n",
       "      <th>race</th>\n",
       "      <th>income_group</th>\n",
       "      <th>young</th>\n",
       "      <th>num_visits</th>\n",
       "    </tr>\n",
       "  </thead>\n",
       "  <tbody>\n",
       "    <tr>\n",
       "      <th>0</th>\n",
       "      <td>4822259</td>\n",
       "      <td>2018-11-05</td>\n",
       "      <td>Black or African American</td>\n",
       "      <td>High</td>\n",
       "      <td>False</td>\n",
       "      <td>2</td>\n",
       "    </tr>\n",
       "    <tr>\n",
       "      <th>1</th>\n",
       "      <td>4822259</td>\n",
       "      <td>2019-11-27</td>\n",
       "      <td>Black or African American</td>\n",
       "      <td>High</td>\n",
       "      <td>False</td>\n",
       "      <td>2</td>\n",
       "    </tr>\n",
       "    <tr>\n",
       "      <th>2</th>\n",
       "      <td>4869751</td>\n",
       "      <td>2015-09-15</td>\n",
       "      <td>White</td>\n",
       "      <td>Medium</td>\n",
       "      <td>True</td>\n",
       "      <td>3</td>\n",
       "    </tr>\n",
       "    <tr>\n",
       "      <th>3</th>\n",
       "      <td>4869751</td>\n",
       "      <td>2019-08-14</td>\n",
       "      <td>White</td>\n",
       "      <td>Medium</td>\n",
       "      <td>False</td>\n",
       "      <td>3</td>\n",
       "    </tr>\n",
       "    <tr>\n",
       "      <th>4</th>\n",
       "      <td>4869751</td>\n",
       "      <td>2016-12-12</td>\n",
       "      <td>White</td>\n",
       "      <td>Medium</td>\n",
       "      <td>True</td>\n",
       "      <td>3</td>\n",
       "    </tr>\n",
       "  </tbody>\n",
       "</table>\n",
       "</div>"
      ],
      "text/plain": [
       "   customer_id visit_datetime                       race income_group  young  \\\n",
       "0      4822259     2018-11-05  Black or African American         High  False   \n",
       "1      4822259     2019-11-27  Black or African American         High  False   \n",
       "2      4869751     2015-09-15                      White       Medium   True   \n",
       "3      4869751     2019-08-14                      White       Medium  False   \n",
       "4      4869751     2016-12-12                      White       Medium   True   \n",
       "\n",
       "   num_visits  \n",
       "0           2  \n",
       "1           2  \n",
       "2           3  \n",
       "3           3  \n",
       "4           3  "
      ]
     },
     "execution_count": 251,
     "metadata": {},
     "output_type": "execute_result"
    }
   ],
   "source": [
    "act = pd.to_datetime('2019-07-22')\n",
    "visits_post_act = visits_scr_cst_act[visits_scr_cst_act['visit_datetime'] > act].copy()\n",
    "\n",
    "visits_post_act['five_yrs_before'] = visits_post_act.loc[:, 'visit_datetime'] - pd.DateOffset(months=60)\n",
    "\n",
    "cohort = visits_scr_cst_act[visits_scr_cst_act['customer_id'].isin(visits_post_act['customer_id'])]\n",
    "\n",
    "cohort = cohort.merge(visits_post_act[['customer_id', 'five_yrs_before']], on='customer_id', how='inner')\n",
    "cohort = cohort[cohort['visit_datetime'] > cohort['five_yrs_before']]\n",
    "\n",
    "df = apply_transformations(cohort)\n",
    "total_patients = df.drop_duplicates('customer_id')\n",
    "print(total_patients.shape)\n",
    "df.head()"
   ]
  },
  {
   "cell_type": "code",
   "execution_count": 253,
   "metadata": {},
   "outputs": [
    {
     "name": "stdout",
     "output_type": "stream",
     "text": [
      "(111245, 6)\n"
     ]
    },
    {
     "data": {
      "text/html": [
       "<div>\n",
       "<style scoped>\n",
       "    .dataframe tbody tr th:only-of-type {\n",
       "        vertical-align: middle;\n",
       "    }\n",
       "\n",
       "    .dataframe tbody tr th {\n",
       "        vertical-align: top;\n",
       "    }\n",
       "\n",
       "    .dataframe thead th {\n",
       "        text-align: right;\n",
       "    }\n",
       "</style>\n",
       "<table border=\"1\" class=\"dataframe\">\n",
       "  <thead>\n",
       "    <tr style=\"text-align: right;\">\n",
       "      <th></th>\n",
       "      <th>customer_id</th>\n",
       "      <th>visit_datetime</th>\n",
       "      <th>race</th>\n",
       "      <th>income_group</th>\n",
       "      <th>young</th>\n",
       "      <th>num_visits</th>\n",
       "    </tr>\n",
       "  </thead>\n",
       "  <tbody>\n",
       "    <tr>\n",
       "      <th>2</th>\n",
       "      <td>4869751</td>\n",
       "      <td>2015-09-15</td>\n",
       "      <td>White</td>\n",
       "      <td>Medium</td>\n",
       "      <td>True</td>\n",
       "      <td>3</td>\n",
       "    </tr>\n",
       "    <tr>\n",
       "      <th>5</th>\n",
       "      <td>5637177</td>\n",
       "      <td>2015-01-27</td>\n",
       "      <td>Black or African American</td>\n",
       "      <td>Medium</td>\n",
       "      <td>False</td>\n",
       "      <td>4</td>\n",
       "    </tr>\n",
       "    <tr>\n",
       "      <th>9</th>\n",
       "      <td>5419194</td>\n",
       "      <td>2019-12-21</td>\n",
       "      <td>White</td>\n",
       "      <td>High</td>\n",
       "      <td>False</td>\n",
       "      <td>3</td>\n",
       "    </tr>\n",
       "    <tr>\n",
       "      <th>14</th>\n",
       "      <td>4650327</td>\n",
       "      <td>2017-08-05</td>\n",
       "      <td>Black or African American</td>\n",
       "      <td>Medium</td>\n",
       "      <td>False</td>\n",
       "      <td>4</td>\n",
       "    </tr>\n",
       "    <tr>\n",
       "      <th>18</th>\n",
       "      <td>5313939</td>\n",
       "      <td>2020-08-27</td>\n",
       "      <td>Other</td>\n",
       "      <td>High</td>\n",
       "      <td>False</td>\n",
       "      <td>3</td>\n",
       "    </tr>\n",
       "  </tbody>\n",
       "</table>\n",
       "</div>"
      ],
      "text/plain": [
       "    customer_id visit_datetime                       race income_group  young  \\\n",
       "2       4869751     2015-09-15                      White       Medium   True   \n",
       "5       5637177     2015-01-27  Black or African American       Medium  False   \n",
       "9       5419194     2019-12-21                      White         High  False   \n",
       "14      4650327     2017-08-05  Black or African American       Medium  False   \n",
       "18      5313939     2020-08-27                      Other         High  False   \n",
       "\n",
       "    num_visits  \n",
       "2            3  \n",
       "5            4  \n",
       "9            3  \n",
       "14           4  \n",
       "18           3  "
      ]
     },
     "execution_count": 253,
     "metadata": {},
     "output_type": "execute_result"
    }
   ],
   "source": [
    "# have number of visits for every customer_id\n",
    "# all patients that satisfy compliance\n",
    "df = df[df['num_visits'] >= 3]\n",
    "df = df.drop_duplicates('customer_id')\n",
    "print(df.shape)\n",
    "df.head()"
   ]
  },
  {
   "cell_type": "code",
   "execution_count": 254,
   "metadata": {},
   "outputs": [
    {
     "name": "stdout",
     "output_type": "stream",
     "text": [
      "post act compliance\n",
      "Compliance rate of White: 79.6% (68583 / 86202)\n",
      "68583 complied, 86202 total\n",
      "\n",
      "Compliance rate of Black or African American: 75.0% (30652 / 40843)\n",
      "30652 complied, 40843 total\n",
      "\n",
      "Compliance rate of Asian: 73.1% (5260 / 7199)\n",
      "5260 complied, 7199 total\n",
      "\n",
      "Compliance rate of Hispanic: 69.1% (3596 / 5205)\n",
      "3596 complied, 5205 total\n",
      "\n",
      "Compliance rate of Other: 68.6% (1681 / 2450)\n",
      "1681 complied, 2450 total\n",
      "\n",
      "Compliance rate of Declined: 69.5% (1473 / 2120)\n",
      "1473 complied, 2120 total\n",
      "\n",
      "Compliance rate of Medium: 76.3% (50298 / 65941)\n",
      "50298 complied, 65941 total\n",
      "\n",
      "Compliance rate of High: 79.2% (49863 / 62984)\n",
      "49863 complied, 62984 total\n",
      "\n",
      "Compliance rate of Low: 73.4% (11080 / 15086)\n",
      "11080 complied, 15086 total\n",
      "\n",
      "Compliance rate of False: 80.7% (86641 / 107321)\n",
      "86641 complied, 107321 total\n",
      "\n",
      "Compliance rate of True: 67.0% (24604 / 36698)\n",
      "24604 complied, 36698 total\n",
      "\n"
     ]
    }
   ],
   "source": [
    "print('post act compliance')\n",
    "get_percentage(df['race'], total_patients['race'])\n",
    "get_percentage(df['income_group'], total_patients['income_group'])\n",
    "get_percentage(df['young'], total_patients['young'])\n"
   ]
  },
  {
   "cell_type": "code",
   "execution_count": null,
   "metadata": {},
   "outputs": [],
   "source": []
  }
 ],
 "metadata": {
  "kernelspec": {
   "display_name": "Python 3",
   "language": "python",
   "name": "python3"
  },
  "language_info": {
   "codemirror_mode": {
    "name": "ipython",
    "version": 3
   },
   "file_extension": ".py",
   "mimetype": "text/x-python",
   "name": "python",
   "nbconvert_exporter": "python",
   "pygments_lexer": "ipython3",
   "version": "3.6.9"
  }
 },
 "nbformat": 4,
 "nbformat_minor": 4
}
